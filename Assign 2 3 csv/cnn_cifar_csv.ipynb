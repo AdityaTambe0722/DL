{
 "cells": [
  {
   "cell_type": "markdown",
   "id": "ff211fdb",
   "metadata": {},
   "source": [
    "# Convolutional Neural Network Implementation with Keras and TensorFlow: CIFAR-10 Dataset\n",
    "This Jupyter notebook demonstrates the implementation of a feedforward neural network using Keras and TensorFlow. The goal of this assignment is to walk through the process of building, training, and evaluating a neural network for image classification. We will use the MNIST or CIFAR-10 dataset as per your choice.<br>\n",
    "Dataset: https://www.cs.toronto.edu/%7Ekriz/cifar.html <br>\n",
    "Info: The CIFAR-10 dataset consists of 60000 32x32 colour images in 10 classes, with 6000 images per class. There are 50000 training images and 10000 test images.\n",
    "\n",
    "## Assignment Steps:\n",
    "\n",
    "**a. Import the necessary packages**: We will start by importing the required Python libraries, including Keras, TensorFlow, and other essential packages.\n",
    "\n",
    "**b. Load the training and testing data**: In this step, we will load the dataset (either MNIST or CIFAR-10) for training and testing the neural network.\n",
    "\n",
    "**c. Define the network architecture using Keras**: Here, we will define the architecture of our feedforward neural network, specifying the number of layers, neurons, and activation functions.\n",
    "\n",
    "**d. Train the model using SGD (Stochastic Gradient Descent)**: We will use the Stochastic Gradient Descent optimizer to train the neural network on the training data.\n",
    "\n",
    "**e. Evaluate the network**: After training, we will evaluate the performance of the model on the testing data to assess its accuracy and other relevant metrics.\n",
    "\n",
    "**f. Plot the training loss and accuracy**: We will create plots to visualize the training loss and accuracy over epochs, providing insights into the model's learning progress.\n",
    "\n",
    "Feel free to follow along with the code and explanations provided in this notebook to gain a better understanding of building and training neural networks for image classification.\n",
    "\n",
    "# Build the Image classification model by dividing the model into following 4 stages:\n",
    "a. Loading and preprocessing the image data<br>\n",
    "b. Defining the model’s architecture<br>\n",
    "c. Training the model<br>\n",
    "d. Estimating the model’s performance<br>\n",
    "\n",
    "Note: Both assignment can use this code accordingly"
   ]
  },
  {
   "cell_type": "code",
   "execution_count": 1,
   "id": "0fee04cd",
   "metadata": {},
   "outputs": [],
   "source": [
    "import pandas as pd\n",
    "import numpy as  np\n",
    "import matplotlib.pyplot as plt\n",
    "import seaborn as sns\n",
    "import tensorflow as tf\n",
    "from tensorflow.keras.layers import BatchNormalization, Conv2D, Dense, Dropout, MaxPooling2D, Flatten\n",
    "from tensorflow.keras.models import Model, Sequential\n",
    "from tensorflow.keras.optimizers import SGD"
   ]
  },
  {
   "cell_type": "code",
   "execution_count": 2,
   "id": "4c3cab30",
   "metadata": {},
   "outputs": [
    {
     "data": {
      "text/html": [
       "<div>\n",
       "<style scoped>\n",
       "    .dataframe tbody tr th:only-of-type {\n",
       "        vertical-align: middle;\n",
       "    }\n",
       "\n",
       "    .dataframe tbody tr th {\n",
       "        vertical-align: top;\n",
       "    }\n",
       "\n",
       "    .dataframe thead th {\n",
       "        text-align: right;\n",
       "    }\n",
       "</style>\n",
       "<table border=\"1\" class=\"dataframe\">\n",
       "  <thead>\n",
       "    <tr style=\"text-align: right;\">\n",
       "      <th></th>\n",
       "      <th>pixel_0</th>\n",
       "      <th>pixel_1</th>\n",
       "      <th>pixel_2</th>\n",
       "      <th>pixel_3</th>\n",
       "      <th>pixel_4</th>\n",
       "      <th>pixel_5</th>\n",
       "      <th>pixel_6</th>\n",
       "      <th>pixel_7</th>\n",
       "      <th>pixel_8</th>\n",
       "      <th>pixel_9</th>\n",
       "      <th>...</th>\n",
       "      <th>pixel_3063</th>\n",
       "      <th>pixel_3064</th>\n",
       "      <th>pixel_3065</th>\n",
       "      <th>pixel_3066</th>\n",
       "      <th>pixel_3067</th>\n",
       "      <th>pixel_3068</th>\n",
       "      <th>pixel_3069</th>\n",
       "      <th>pixel_3070</th>\n",
       "      <th>pixel_3071</th>\n",
       "      <th>label</th>\n",
       "    </tr>\n",
       "  </thead>\n",
       "  <tbody>\n",
       "    <tr>\n",
       "      <th>0</th>\n",
       "      <td>59</td>\n",
       "      <td>62</td>\n",
       "      <td>63</td>\n",
       "      <td>43</td>\n",
       "      <td>46</td>\n",
       "      <td>45</td>\n",
       "      <td>50</td>\n",
       "      <td>48</td>\n",
       "      <td>43</td>\n",
       "      <td>68</td>\n",
       "      <td>...</td>\n",
       "      <td>216</td>\n",
       "      <td>184</td>\n",
       "      <td>140</td>\n",
       "      <td>151</td>\n",
       "      <td>118</td>\n",
       "      <td>84</td>\n",
       "      <td>123</td>\n",
       "      <td>92</td>\n",
       "      <td>72</td>\n",
       "      <td>6</td>\n",
       "    </tr>\n",
       "    <tr>\n",
       "      <th>1</th>\n",
       "      <td>154</td>\n",
       "      <td>177</td>\n",
       "      <td>187</td>\n",
       "      <td>126</td>\n",
       "      <td>137</td>\n",
       "      <td>136</td>\n",
       "      <td>105</td>\n",
       "      <td>104</td>\n",
       "      <td>95</td>\n",
       "      <td>102</td>\n",
       "      <td>...</td>\n",
       "      <td>143</td>\n",
       "      <td>133</td>\n",
       "      <td>139</td>\n",
       "      <td>143</td>\n",
       "      <td>134</td>\n",
       "      <td>142</td>\n",
       "      <td>143</td>\n",
       "      <td>133</td>\n",
       "      <td>144</td>\n",
       "      <td>9</td>\n",
       "    </tr>\n",
       "    <tr>\n",
       "      <th>2</th>\n",
       "      <td>255</td>\n",
       "      <td>255</td>\n",
       "      <td>255</td>\n",
       "      <td>253</td>\n",
       "      <td>253</td>\n",
       "      <td>253</td>\n",
       "      <td>253</td>\n",
       "      <td>253</td>\n",
       "      <td>253</td>\n",
       "      <td>253</td>\n",
       "      <td>...</td>\n",
       "      <td>78</td>\n",
       "      <td>85</td>\n",
       "      <td>83</td>\n",
       "      <td>79</td>\n",
       "      <td>85</td>\n",
       "      <td>83</td>\n",
       "      <td>80</td>\n",
       "      <td>86</td>\n",
       "      <td>84</td>\n",
       "      <td>9</td>\n",
       "    </tr>\n",
       "    <tr>\n",
       "      <th>3</th>\n",
       "      <td>28</td>\n",
       "      <td>25</td>\n",
       "      <td>10</td>\n",
       "      <td>37</td>\n",
       "      <td>34</td>\n",
       "      <td>19</td>\n",
       "      <td>38</td>\n",
       "      <td>35</td>\n",
       "      <td>20</td>\n",
       "      <td>42</td>\n",
       "      <td>...</td>\n",
       "      <td>54</td>\n",
       "      <td>47</td>\n",
       "      <td>28</td>\n",
       "      <td>63</td>\n",
       "      <td>56</td>\n",
       "      <td>37</td>\n",
       "      <td>72</td>\n",
       "      <td>65</td>\n",
       "      <td>46</td>\n",
       "      <td>4</td>\n",
       "    </tr>\n",
       "    <tr>\n",
       "      <th>4</th>\n",
       "      <td>170</td>\n",
       "      <td>180</td>\n",
       "      <td>198</td>\n",
       "      <td>168</td>\n",
       "      <td>178</td>\n",
       "      <td>196</td>\n",
       "      <td>177</td>\n",
       "      <td>185</td>\n",
       "      <td>203</td>\n",
       "      <td>183</td>\n",
       "      <td>...</td>\n",
       "      <td>75</td>\n",
       "      <td>79</td>\n",
       "      <td>82</td>\n",
       "      <td>71</td>\n",
       "      <td>75</td>\n",
       "      <td>78</td>\n",
       "      <td>73</td>\n",
       "      <td>77</td>\n",
       "      <td>80</td>\n",
       "      <td>1</td>\n",
       "    </tr>\n",
       "    <tr>\n",
       "      <th>...</th>\n",
       "      <td>...</td>\n",
       "      <td>...</td>\n",
       "      <td>...</td>\n",
       "      <td>...</td>\n",
       "      <td>...</td>\n",
       "      <td>...</td>\n",
       "      <td>...</td>\n",
       "      <td>...</td>\n",
       "      <td>...</td>\n",
       "      <td>...</td>\n",
       "      <td>...</td>\n",
       "      <td>...</td>\n",
       "      <td>...</td>\n",
       "      <td>...</td>\n",
       "      <td>...</td>\n",
       "      <td>...</td>\n",
       "      <td>...</td>\n",
       "      <td>...</td>\n",
       "      <td>...</td>\n",
       "      <td>...</td>\n",
       "      <td>...</td>\n",
       "    </tr>\n",
       "    <tr>\n",
       "      <th>49995</th>\n",
       "      <td>145</td>\n",
       "      <td>161</td>\n",
       "      <td>194</td>\n",
       "      <td>151</td>\n",
       "      <td>166</td>\n",
       "      <td>199</td>\n",
       "      <td>156</td>\n",
       "      <td>171</td>\n",
       "      <td>205</td>\n",
       "      <td>155</td>\n",
       "      <td>...</td>\n",
       "      <td>39</td>\n",
       "      <td>41</td>\n",
       "      <td>56</td>\n",
       "      <td>36</td>\n",
       "      <td>38</td>\n",
       "      <td>53</td>\n",
       "      <td>37</td>\n",
       "      <td>39</td>\n",
       "      <td>54</td>\n",
       "      <td>2</td>\n",
       "    </tr>\n",
       "    <tr>\n",
       "      <th>49996</th>\n",
       "      <td>255</td>\n",
       "      <td>245</td>\n",
       "      <td>132</td>\n",
       "      <td>254</td>\n",
       "      <td>247</td>\n",
       "      <td>134</td>\n",
       "      <td>255</td>\n",
       "      <td>249</td>\n",
       "      <td>137</td>\n",
       "      <td>254</td>\n",
       "      <td>...</td>\n",
       "      <td>249</td>\n",
       "      <td>174</td>\n",
       "      <td>79</td>\n",
       "      <td>252</td>\n",
       "      <td>181</td>\n",
       "      <td>81</td>\n",
       "      <td>253</td>\n",
       "      <td>181</td>\n",
       "      <td>76</td>\n",
       "      <td>6</td>\n",
       "    </tr>\n",
       "    <tr>\n",
       "      <th>49997</th>\n",
       "      <td>35</td>\n",
       "      <td>178</td>\n",
       "      <td>235</td>\n",
       "      <td>40</td>\n",
       "      <td>176</td>\n",
       "      <td>239</td>\n",
       "      <td>42</td>\n",
       "      <td>176</td>\n",
       "      <td>241</td>\n",
       "      <td>39</td>\n",
       "      <td>...</td>\n",
       "      <td>27</td>\n",
       "      <td>52</td>\n",
       "      <td>77</td>\n",
       "      <td>21</td>\n",
       "      <td>43</td>\n",
       "      <td>66</td>\n",
       "      <td>12</td>\n",
       "      <td>31</td>\n",
       "      <td>50</td>\n",
       "      <td>9</td>\n",
       "    </tr>\n",
       "    <tr>\n",
       "      <th>49998</th>\n",
       "      <td>189</td>\n",
       "      <td>211</td>\n",
       "      <td>240</td>\n",
       "      <td>186</td>\n",
       "      <td>208</td>\n",
       "      <td>236</td>\n",
       "      <td>185</td>\n",
       "      <td>207</td>\n",
       "      <td>235</td>\n",
       "      <td>184</td>\n",
       "      <td>...</td>\n",
       "      <td>195</td>\n",
       "      <td>184</td>\n",
       "      <td>169</td>\n",
       "      <td>196</td>\n",
       "      <td>189</td>\n",
       "      <td>171</td>\n",
       "      <td>195</td>\n",
       "      <td>190</td>\n",
       "      <td>171</td>\n",
       "      <td>1</td>\n",
       "    </tr>\n",
       "    <tr>\n",
       "      <th>49999</th>\n",
       "      <td>229</td>\n",
       "      <td>229</td>\n",
       "      <td>239</td>\n",
       "      <td>236</td>\n",
       "      <td>237</td>\n",
       "      <td>247</td>\n",
       "      <td>234</td>\n",
       "      <td>236</td>\n",
       "      <td>247</td>\n",
       "      <td>231</td>\n",
       "      <td>...</td>\n",
       "      <td>179</td>\n",
       "      <td>177</td>\n",
       "      <td>173</td>\n",
       "      <td>164</td>\n",
       "      <td>164</td>\n",
       "      <td>162</td>\n",
       "      <td>163</td>\n",
       "      <td>163</td>\n",
       "      <td>161</td>\n",
       "      <td>1</td>\n",
       "    </tr>\n",
       "  </tbody>\n",
       "</table>\n",
       "<p>50000 rows × 3073 columns</p>\n",
       "</div>"
      ],
      "text/plain": [
       "       pixel_0  pixel_1  pixel_2  pixel_3  pixel_4  pixel_5  pixel_6  pixel_7  \\\n",
       "0           59       62       63       43       46       45       50       48   \n",
       "1          154      177      187      126      137      136      105      104   \n",
       "2          255      255      255      253      253      253      253      253   \n",
       "3           28       25       10       37       34       19       38       35   \n",
       "4          170      180      198      168      178      196      177      185   \n",
       "...        ...      ...      ...      ...      ...      ...      ...      ...   \n",
       "49995      145      161      194      151      166      199      156      171   \n",
       "49996      255      245      132      254      247      134      255      249   \n",
       "49997       35      178      235       40      176      239       42      176   \n",
       "49998      189      211      240      186      208      236      185      207   \n",
       "49999      229      229      239      236      237      247      234      236   \n",
       "\n",
       "       pixel_8  pixel_9  ...  pixel_3063  pixel_3064  pixel_3065  pixel_3066  \\\n",
       "0           43       68  ...         216         184         140         151   \n",
       "1           95      102  ...         143         133         139         143   \n",
       "2          253      253  ...          78          85          83          79   \n",
       "3           20       42  ...          54          47          28          63   \n",
       "4          203      183  ...          75          79          82          71   \n",
       "...        ...      ...  ...         ...         ...         ...         ...   \n",
       "49995      205      155  ...          39          41          56          36   \n",
       "49996      137      254  ...         249         174          79         252   \n",
       "49997      241       39  ...          27          52          77          21   \n",
       "49998      235      184  ...         195         184         169         196   \n",
       "49999      247      231  ...         179         177         173         164   \n",
       "\n",
       "       pixel_3067  pixel_3068  pixel_3069  pixel_3070  pixel_3071  label  \n",
       "0             118          84         123          92          72      6  \n",
       "1             134         142         143         133         144      9  \n",
       "2              85          83          80          86          84      9  \n",
       "3              56          37          72          65          46      4  \n",
       "4              75          78          73          77          80      1  \n",
       "...           ...         ...         ...         ...         ...    ...  \n",
       "49995          38          53          37          39          54      2  \n",
       "49996         181          81         253         181          76      6  \n",
       "49997          43          66          12          31          50      9  \n",
       "49998         189         171         195         190         171      1  \n",
       "49999         164         162         163         163         161      1  \n",
       "\n",
       "[50000 rows x 3073 columns]"
      ]
     },
     "execution_count": 2,
     "metadata": {},
     "output_type": "execute_result"
    }
   ],
   "source": [
    "# Load the training and testing data from CSV files\n",
    "train = pd.read_csv(r\"train_data.csv\")\n",
    "train"
   ]
  },
  {
   "cell_type": "code",
   "execution_count": 3,
   "id": "f1bd496a",
   "metadata": {},
   "outputs": [
    {
     "data": {
      "text/plain": [
       "(50000, 3072)"
      ]
     },
     "execution_count": 3,
     "metadata": {},
     "output_type": "execute_result"
    }
   ],
   "source": [
    "x_train = train.drop(['label'], axis = 1).values\n",
    "y_train = train['label'].values\n",
    "x_train.shape"
   ]
  },
  {
   "cell_type": "code",
   "execution_count": 4,
   "id": "42c38034",
   "metadata": {},
   "outputs": [],
   "source": [
    "x_train = x_train.reshape((50000, 32, 32, 3)).astype('float32')/255"
   ]
  },
  {
   "cell_type": "code",
   "execution_count": 5,
   "id": "b7b670e9",
   "metadata": {},
   "outputs": [
    {
     "data": {
      "text/html": [
       "<div>\n",
       "<style scoped>\n",
       "    .dataframe tbody tr th:only-of-type {\n",
       "        vertical-align: middle;\n",
       "    }\n",
       "\n",
       "    .dataframe tbody tr th {\n",
       "        vertical-align: top;\n",
       "    }\n",
       "\n",
       "    .dataframe thead th {\n",
       "        text-align: right;\n",
       "    }\n",
       "</style>\n",
       "<table border=\"1\" class=\"dataframe\">\n",
       "  <thead>\n",
       "    <tr style=\"text-align: right;\">\n",
       "      <th></th>\n",
       "      <th>pixel_0</th>\n",
       "      <th>pixel_1</th>\n",
       "      <th>pixel_2</th>\n",
       "      <th>pixel_3</th>\n",
       "      <th>pixel_4</th>\n",
       "      <th>pixel_5</th>\n",
       "      <th>pixel_6</th>\n",
       "      <th>pixel_7</th>\n",
       "      <th>pixel_8</th>\n",
       "      <th>pixel_9</th>\n",
       "      <th>...</th>\n",
       "      <th>pixel_3063</th>\n",
       "      <th>pixel_3064</th>\n",
       "      <th>pixel_3065</th>\n",
       "      <th>pixel_3066</th>\n",
       "      <th>pixel_3067</th>\n",
       "      <th>pixel_3068</th>\n",
       "      <th>pixel_3069</th>\n",
       "      <th>pixel_3070</th>\n",
       "      <th>pixel_3071</th>\n",
       "      <th>label</th>\n",
       "    </tr>\n",
       "  </thead>\n",
       "  <tbody>\n",
       "    <tr>\n",
       "      <th>0</th>\n",
       "      <td>158</td>\n",
       "      <td>112</td>\n",
       "      <td>49</td>\n",
       "      <td>159</td>\n",
       "      <td>111</td>\n",
       "      <td>47</td>\n",
       "      <td>165</td>\n",
       "      <td>116</td>\n",
       "      <td>51</td>\n",
       "      <td>166</td>\n",
       "      <td>...</td>\n",
       "      <td>24</td>\n",
       "      <td>77</td>\n",
       "      <td>124</td>\n",
       "      <td>34</td>\n",
       "      <td>84</td>\n",
       "      <td>129</td>\n",
       "      <td>21</td>\n",
       "      <td>67</td>\n",
       "      <td>110</td>\n",
       "      <td>3</td>\n",
       "    </tr>\n",
       "    <tr>\n",
       "      <th>1</th>\n",
       "      <td>235</td>\n",
       "      <td>235</td>\n",
       "      <td>235</td>\n",
       "      <td>231</td>\n",
       "      <td>231</td>\n",
       "      <td>231</td>\n",
       "      <td>232</td>\n",
       "      <td>232</td>\n",
       "      <td>232</td>\n",
       "      <td>232</td>\n",
       "      <td>...</td>\n",
       "      <td>168</td>\n",
       "      <td>183</td>\n",
       "      <td>178</td>\n",
       "      <td>180</td>\n",
       "      <td>195</td>\n",
       "      <td>191</td>\n",
       "      <td>186</td>\n",
       "      <td>200</td>\n",
       "      <td>199</td>\n",
       "      <td>8</td>\n",
       "    </tr>\n",
       "    <tr>\n",
       "      <th>2</th>\n",
       "      <td>158</td>\n",
       "      <td>190</td>\n",
       "      <td>222</td>\n",
       "      <td>158</td>\n",
       "      <td>187</td>\n",
       "      <td>218</td>\n",
       "      <td>139</td>\n",
       "      <td>166</td>\n",
       "      <td>194</td>\n",
       "      <td>132</td>\n",
       "      <td>...</td>\n",
       "      <td>5</td>\n",
       "      <td>6</td>\n",
       "      <td>8</td>\n",
       "      <td>4</td>\n",
       "      <td>5</td>\n",
       "      <td>3</td>\n",
       "      <td>7</td>\n",
       "      <td>8</td>\n",
       "      <td>7</td>\n",
       "      <td>8</td>\n",
       "    </tr>\n",
       "    <tr>\n",
       "      <th>3</th>\n",
       "      <td>155</td>\n",
       "      <td>156</td>\n",
       "      <td>149</td>\n",
       "      <td>167</td>\n",
       "      <td>176</td>\n",
       "      <td>187</td>\n",
       "      <td>176</td>\n",
       "      <td>179</td>\n",
       "      <td>193</td>\n",
       "      <td>190</td>\n",
       "      <td>...</td>\n",
       "      <td>60</td>\n",
       "      <td>63</td>\n",
       "      <td>50</td>\n",
       "      <td>64</td>\n",
       "      <td>65</td>\n",
       "      <td>52</td>\n",
       "      <td>73</td>\n",
       "      <td>68</td>\n",
       "      <td>50</td>\n",
       "      <td>0</td>\n",
       "    </tr>\n",
       "    <tr>\n",
       "      <th>4</th>\n",
       "      <td>65</td>\n",
       "      <td>68</td>\n",
       "      <td>50</td>\n",
       "      <td>70</td>\n",
       "      <td>81</td>\n",
       "      <td>64</td>\n",
       "      <td>48</td>\n",
       "      <td>64</td>\n",
       "      <td>46</td>\n",
       "      <td>30</td>\n",
       "      <td>...</td>\n",
       "      <td>143</td>\n",
       "      <td>179</td>\n",
       "      <td>136</td>\n",
       "      <td>154</td>\n",
       "      <td>185</td>\n",
       "      <td>146</td>\n",
       "      <td>128</td>\n",
       "      <td>156</td>\n",
       "      <td>117</td>\n",
       "      <td>6</td>\n",
       "    </tr>\n",
       "    <tr>\n",
       "      <th>...</th>\n",
       "      <td>...</td>\n",
       "      <td>...</td>\n",
       "      <td>...</td>\n",
       "      <td>...</td>\n",
       "      <td>...</td>\n",
       "      <td>...</td>\n",
       "      <td>...</td>\n",
       "      <td>...</td>\n",
       "      <td>...</td>\n",
       "      <td>...</td>\n",
       "      <td>...</td>\n",
       "      <td>...</td>\n",
       "      <td>...</td>\n",
       "      <td>...</td>\n",
       "      <td>...</td>\n",
       "      <td>...</td>\n",
       "      <td>...</td>\n",
       "      <td>...</td>\n",
       "      <td>...</td>\n",
       "      <td>...</td>\n",
       "      <td>...</td>\n",
       "    </tr>\n",
       "    <tr>\n",
       "      <th>9995</th>\n",
       "      <td>76</td>\n",
       "      <td>78</td>\n",
       "      <td>133</td>\n",
       "      <td>76</td>\n",
       "      <td>78</td>\n",
       "      <td>134</td>\n",
       "      <td>77</td>\n",
       "      <td>80</td>\n",
       "      <td>132</td>\n",
       "      <td>76</td>\n",
       "      <td>...</td>\n",
       "      <td>204</td>\n",
       "      <td>219</td>\n",
       "      <td>236</td>\n",
       "      <td>200</td>\n",
       "      <td>215</td>\n",
       "      <td>234</td>\n",
       "      <td>199</td>\n",
       "      <td>216</td>\n",
       "      <td>236</td>\n",
       "      <td>8</td>\n",
       "    </tr>\n",
       "    <tr>\n",
       "      <th>9996</th>\n",
       "      <td>81</td>\n",
       "      <td>57</td>\n",
       "      <td>43</td>\n",
       "      <td>91</td>\n",
       "      <td>69</td>\n",
       "      <td>53</td>\n",
       "      <td>98</td>\n",
       "      <td>75</td>\n",
       "      <td>63</td>\n",
       "      <td>106</td>\n",
       "      <td>...</td>\n",
       "      <td>155</td>\n",
       "      <td>139</td>\n",
       "      <td>129</td>\n",
       "      <td>171</td>\n",
       "      <td>167</td>\n",
       "      <td>147</td>\n",
       "      <td>167</td>\n",
       "      <td>164</td>\n",
       "      <td>160</td>\n",
       "      <td>3</td>\n",
       "    </tr>\n",
       "    <tr>\n",
       "      <th>9997</th>\n",
       "      <td>20</td>\n",
       "      <td>15</td>\n",
       "      <td>12</td>\n",
       "      <td>19</td>\n",
       "      <td>14</td>\n",
       "      <td>11</td>\n",
       "      <td>15</td>\n",
       "      <td>14</td>\n",
       "      <td>11</td>\n",
       "      <td>15</td>\n",
       "      <td>...</td>\n",
       "      <td>24</td>\n",
       "      <td>23</td>\n",
       "      <td>50</td>\n",
       "      <td>26</td>\n",
       "      <td>23</td>\n",
       "      <td>53</td>\n",
       "      <td>25</td>\n",
       "      <td>20</td>\n",
       "      <td>47</td>\n",
       "      <td>5</td>\n",
       "    </tr>\n",
       "    <tr>\n",
       "      <th>9998</th>\n",
       "      <td>25</td>\n",
       "      <td>40</td>\n",
       "      <td>12</td>\n",
       "      <td>15</td>\n",
       "      <td>36</td>\n",
       "      <td>3</td>\n",
       "      <td>23</td>\n",
       "      <td>41</td>\n",
       "      <td>18</td>\n",
       "      <td>17</td>\n",
       "      <td>...</td>\n",
       "      <td>93</td>\n",
       "      <td>124</td>\n",
       "      <td>80</td>\n",
       "      <td>95</td>\n",
       "      <td>123</td>\n",
       "      <td>81</td>\n",
       "      <td>92</td>\n",
       "      <td>120</td>\n",
       "      <td>80</td>\n",
       "      <td>1</td>\n",
       "    </tr>\n",
       "    <tr>\n",
       "      <th>9999</th>\n",
       "      <td>73</td>\n",
       "      <td>78</td>\n",
       "      <td>75</td>\n",
       "      <td>98</td>\n",
       "      <td>103</td>\n",
       "      <td>113</td>\n",
       "      <td>99</td>\n",
       "      <td>106</td>\n",
       "      <td>114</td>\n",
       "      <td>77</td>\n",
       "      <td>...</td>\n",
       "      <td>116</td>\n",
       "      <td>115</td>\n",
       "      <td>94</td>\n",
       "      <td>68</td>\n",
       "      <td>65</td>\n",
       "      <td>58</td>\n",
       "      <td>27</td>\n",
       "      <td>26</td>\n",
       "      <td>26</td>\n",
       "      <td>7</td>\n",
       "    </tr>\n",
       "  </tbody>\n",
       "</table>\n",
       "<p>10000 rows × 3073 columns</p>\n",
       "</div>"
      ],
      "text/plain": [
       "      pixel_0  pixel_1  pixel_2  pixel_3  pixel_4  pixel_5  pixel_6  pixel_7  \\\n",
       "0         158      112       49      159      111       47      165      116   \n",
       "1         235      235      235      231      231      231      232      232   \n",
       "2         158      190      222      158      187      218      139      166   \n",
       "3         155      156      149      167      176      187      176      179   \n",
       "4          65       68       50       70       81       64       48       64   \n",
       "...       ...      ...      ...      ...      ...      ...      ...      ...   \n",
       "9995       76       78      133       76       78      134       77       80   \n",
       "9996       81       57       43       91       69       53       98       75   \n",
       "9997       20       15       12       19       14       11       15       14   \n",
       "9998       25       40       12       15       36        3       23       41   \n",
       "9999       73       78       75       98      103      113       99      106   \n",
       "\n",
       "      pixel_8  pixel_9  ...  pixel_3063  pixel_3064  pixel_3065  pixel_3066  \\\n",
       "0          51      166  ...          24          77         124          34   \n",
       "1         232      232  ...         168         183         178         180   \n",
       "2         194      132  ...           5           6           8           4   \n",
       "3         193      190  ...          60          63          50          64   \n",
       "4          46       30  ...         143         179         136         154   \n",
       "...       ...      ...  ...         ...         ...         ...         ...   \n",
       "9995      132       76  ...         204         219         236         200   \n",
       "9996       63      106  ...         155         139         129         171   \n",
       "9997       11       15  ...          24          23          50          26   \n",
       "9998       18       17  ...          93         124          80          95   \n",
       "9999      114       77  ...         116         115          94          68   \n",
       "\n",
       "      pixel_3067  pixel_3068  pixel_3069  pixel_3070  pixel_3071  label  \n",
       "0             84         129          21          67         110      3  \n",
       "1            195         191         186         200         199      8  \n",
       "2              5           3           7           8           7      8  \n",
       "3             65          52          73          68          50      0  \n",
       "4            185         146         128         156         117      6  \n",
       "...          ...         ...         ...         ...         ...    ...  \n",
       "9995         215         234         199         216         236      8  \n",
       "9996         167         147         167         164         160      3  \n",
       "9997          23          53          25          20          47      5  \n",
       "9998         123          81          92         120          80      1  \n",
       "9999          65          58          27          26          26      7  \n",
       "\n",
       "[10000 rows x 3073 columns]"
      ]
     },
     "execution_count": 5,
     "metadata": {},
     "output_type": "execute_result"
    }
   ],
   "source": [
    "test = pd.read_csv(r\"test_data.csv\")\n",
    "test"
   ]
  },
  {
   "cell_type": "code",
   "execution_count": 6,
   "id": "ac00705a",
   "metadata": {},
   "outputs": [
    {
     "name": "stderr",
     "output_type": "stream",
     "text": [
      "C:\\Users\\Vedant Gadekar\\AppData\\Local\\Programs\\Python\\Python312\\Lib\\site-packages\\keras\\src\\layers\\convolutional\\base_conv.py:107: UserWarning: Do not pass an `input_shape`/`input_dim` argument to a layer. When using Sequential models, prefer using an `Input(shape)` object as the first layer in the model instead.\n",
      "  super().__init__(activity_regularizer=activity_regularizer, **kwargs)\n"
     ]
    },
    {
     "data": {
      "text/html": [
       "<pre style=\"white-space:pre;overflow-x:auto;line-height:normal;font-family:Menlo,'DejaVu Sans Mono',consolas,'Courier New',monospace\"><span style=\"font-weight: bold\">Model: \"sequential\"</span>\n",
       "</pre>\n"
      ],
      "text/plain": [
       "\u001b[1mModel: \"sequential\"\u001b[0m\n"
      ]
     },
     "metadata": {},
     "output_type": "display_data"
    },
    {
     "data": {
      "text/html": [
       "<pre style=\"white-space:pre;overflow-x:auto;line-height:normal;font-family:Menlo,'DejaVu Sans Mono',consolas,'Courier New',monospace\">┏━━━━━━━━━━━━━━━━━━━━━━━━━━━━━━━━━━━━━━┳━━━━━━━━━━━━━━━━━━━━━━━━━━━━━┳━━━━━━━━━━━━━━━━━┓\n",
       "┃<span style=\"font-weight: bold\"> Layer (type)                         </span>┃<span style=\"font-weight: bold\"> Output Shape                </span>┃<span style=\"font-weight: bold\">         Param # </span>┃\n",
       "┡━━━━━━━━━━━━━━━━━━━━━━━━━━━━━━━━━━━━━━╇━━━━━━━━━━━━━━━━━━━━━━━━━━━━━╇━━━━━━━━━━━━━━━━━┩\n",
       "│ conv2d (<span style=\"color: #0087ff; text-decoration-color: #0087ff\">Conv2D</span>)                      │ (<span style=\"color: #00d7ff; text-decoration-color: #00d7ff\">None</span>, <span style=\"color: #00af00; text-decoration-color: #00af00\">30</span>, <span style=\"color: #00af00; text-decoration-color: #00af00\">30</span>, <span style=\"color: #00af00; text-decoration-color: #00af00\">32</span>)          │             <span style=\"color: #00af00; text-decoration-color: #00af00\">896</span> │\n",
       "├──────────────────────────────────────┼─────────────────────────────┼─────────────────┤\n",
       "│ batch_normalization                  │ (<span style=\"color: #00d7ff; text-decoration-color: #00d7ff\">None</span>, <span style=\"color: #00af00; text-decoration-color: #00af00\">30</span>, <span style=\"color: #00af00; text-decoration-color: #00af00\">30</span>, <span style=\"color: #00af00; text-decoration-color: #00af00\">32</span>)          │             <span style=\"color: #00af00; text-decoration-color: #00af00\">128</span> │\n",
       "│ (<span style=\"color: #0087ff; text-decoration-color: #0087ff\">BatchNormalization</span>)                 │                             │                 │\n",
       "├──────────────────────────────────────┼─────────────────────────────┼─────────────────┤\n",
       "│ conv2d_1 (<span style=\"color: #0087ff; text-decoration-color: #0087ff\">Conv2D</span>)                    │ (<span style=\"color: #00d7ff; text-decoration-color: #00d7ff\">None</span>, <span style=\"color: #00af00; text-decoration-color: #00af00\">28</span>, <span style=\"color: #00af00; text-decoration-color: #00af00\">28</span>, <span style=\"color: #00af00; text-decoration-color: #00af00\">64</span>)          │          <span style=\"color: #00af00; text-decoration-color: #00af00\">18,496</span> │\n",
       "├──────────────────────────────────────┼─────────────────────────────┼─────────────────┤\n",
       "│ max_pooling2d (<span style=\"color: #0087ff; text-decoration-color: #0087ff\">MaxPooling2D</span>)         │ (<span style=\"color: #00d7ff; text-decoration-color: #00d7ff\">None</span>, <span style=\"color: #00af00; text-decoration-color: #00af00\">14</span>, <span style=\"color: #00af00; text-decoration-color: #00af00\">14</span>, <span style=\"color: #00af00; text-decoration-color: #00af00\">64</span>)          │               <span style=\"color: #00af00; text-decoration-color: #00af00\">0</span> │\n",
       "├──────────────────────────────────────┼─────────────────────────────┼─────────────────┤\n",
       "│ flatten (<span style=\"color: #0087ff; text-decoration-color: #0087ff\">Flatten</span>)                    │ (<span style=\"color: #00d7ff; text-decoration-color: #00d7ff\">None</span>, <span style=\"color: #00af00; text-decoration-color: #00af00\">12544</span>)               │               <span style=\"color: #00af00; text-decoration-color: #00af00\">0</span> │\n",
       "├──────────────────────────────────────┼─────────────────────────────┼─────────────────┤\n",
       "│ dense (<span style=\"color: #0087ff; text-decoration-color: #0087ff\">Dense</span>)                        │ (<span style=\"color: #00d7ff; text-decoration-color: #00d7ff\">None</span>, <span style=\"color: #00af00; text-decoration-color: #00af00\">64</span>)                  │         <span style=\"color: #00af00; text-decoration-color: #00af00\">802,880</span> │\n",
       "├──────────────────────────────────────┼─────────────────────────────┼─────────────────┤\n",
       "│ dropout (<span style=\"color: #0087ff; text-decoration-color: #0087ff\">Dropout</span>)                    │ (<span style=\"color: #00d7ff; text-decoration-color: #00d7ff\">None</span>, <span style=\"color: #00af00; text-decoration-color: #00af00\">64</span>)                  │               <span style=\"color: #00af00; text-decoration-color: #00af00\">0</span> │\n",
       "├──────────────────────────────────────┼─────────────────────────────┼─────────────────┤\n",
       "│ dense_1 (<span style=\"color: #0087ff; text-decoration-color: #0087ff\">Dense</span>)                      │ (<span style=\"color: #00d7ff; text-decoration-color: #00d7ff\">None</span>, <span style=\"color: #00af00; text-decoration-color: #00af00\">10</span>)                  │             <span style=\"color: #00af00; text-decoration-color: #00af00\">650</span> │\n",
       "└──────────────────────────────────────┴─────────────────────────────┴─────────────────┘\n",
       "</pre>\n"
      ],
      "text/plain": [
       "┏━━━━━━━━━━━━━━━━━━━━━━━━━━━━━━━━━━━━━━┳━━━━━━━━━━━━━━━━━━━━━━━━━━━━━┳━━━━━━━━━━━━━━━━━┓\n",
       "┃\u001b[1m \u001b[0m\u001b[1mLayer (type)                        \u001b[0m\u001b[1m \u001b[0m┃\u001b[1m \u001b[0m\u001b[1mOutput Shape               \u001b[0m\u001b[1m \u001b[0m┃\u001b[1m \u001b[0m\u001b[1m        Param #\u001b[0m\u001b[1m \u001b[0m┃\n",
       "┡━━━━━━━━━━━━━━━━━━━━━━━━━━━━━━━━━━━━━━╇━━━━━━━━━━━━━━━━━━━━━━━━━━━━━╇━━━━━━━━━━━━━━━━━┩\n",
       "│ conv2d (\u001b[38;5;33mConv2D\u001b[0m)                      │ (\u001b[38;5;45mNone\u001b[0m, \u001b[38;5;34m30\u001b[0m, \u001b[38;5;34m30\u001b[0m, \u001b[38;5;34m32\u001b[0m)          │             \u001b[38;5;34m896\u001b[0m │\n",
       "├──────────────────────────────────────┼─────────────────────────────┼─────────────────┤\n",
       "│ batch_normalization                  │ (\u001b[38;5;45mNone\u001b[0m, \u001b[38;5;34m30\u001b[0m, \u001b[38;5;34m30\u001b[0m, \u001b[38;5;34m32\u001b[0m)          │             \u001b[38;5;34m128\u001b[0m │\n",
       "│ (\u001b[38;5;33mBatchNormalization\u001b[0m)                 │                             │                 │\n",
       "├──────────────────────────────────────┼─────────────────────────────┼─────────────────┤\n",
       "│ conv2d_1 (\u001b[38;5;33mConv2D\u001b[0m)                    │ (\u001b[38;5;45mNone\u001b[0m, \u001b[38;5;34m28\u001b[0m, \u001b[38;5;34m28\u001b[0m, \u001b[38;5;34m64\u001b[0m)          │          \u001b[38;5;34m18,496\u001b[0m │\n",
       "├──────────────────────────────────────┼─────────────────────────────┼─────────────────┤\n",
       "│ max_pooling2d (\u001b[38;5;33mMaxPooling2D\u001b[0m)         │ (\u001b[38;5;45mNone\u001b[0m, \u001b[38;5;34m14\u001b[0m, \u001b[38;5;34m14\u001b[0m, \u001b[38;5;34m64\u001b[0m)          │               \u001b[38;5;34m0\u001b[0m │\n",
       "├──────────────────────────────────────┼─────────────────────────────┼─────────────────┤\n",
       "│ flatten (\u001b[38;5;33mFlatten\u001b[0m)                    │ (\u001b[38;5;45mNone\u001b[0m, \u001b[38;5;34m12544\u001b[0m)               │               \u001b[38;5;34m0\u001b[0m │\n",
       "├──────────────────────────────────────┼─────────────────────────────┼─────────────────┤\n",
       "│ dense (\u001b[38;5;33mDense\u001b[0m)                        │ (\u001b[38;5;45mNone\u001b[0m, \u001b[38;5;34m64\u001b[0m)                  │         \u001b[38;5;34m802,880\u001b[0m │\n",
       "├──────────────────────────────────────┼─────────────────────────────┼─────────────────┤\n",
       "│ dropout (\u001b[38;5;33mDropout\u001b[0m)                    │ (\u001b[38;5;45mNone\u001b[0m, \u001b[38;5;34m64\u001b[0m)                  │               \u001b[38;5;34m0\u001b[0m │\n",
       "├──────────────────────────────────────┼─────────────────────────────┼─────────────────┤\n",
       "│ dense_1 (\u001b[38;5;33mDense\u001b[0m)                      │ (\u001b[38;5;45mNone\u001b[0m, \u001b[38;5;34m10\u001b[0m)                  │             \u001b[38;5;34m650\u001b[0m │\n",
       "└──────────────────────────────────────┴─────────────────────────────┴─────────────────┘\n"
      ]
     },
     "metadata": {},
     "output_type": "display_data"
    },
    {
     "data": {
      "text/html": [
       "<pre style=\"white-space:pre;overflow-x:auto;line-height:normal;font-family:Menlo,'DejaVu Sans Mono',consolas,'Courier New',monospace\"><span style=\"font-weight: bold\"> Total params: </span><span style=\"color: #00af00; text-decoration-color: #00af00\">823,050</span> (3.14 MB)\n",
       "</pre>\n"
      ],
      "text/plain": [
       "\u001b[1m Total params: \u001b[0m\u001b[38;5;34m823,050\u001b[0m (3.14 MB)\n"
      ]
     },
     "metadata": {},
     "output_type": "display_data"
    },
    {
     "data": {
      "text/html": [
       "<pre style=\"white-space:pre;overflow-x:auto;line-height:normal;font-family:Menlo,'DejaVu Sans Mono',consolas,'Courier New',monospace\"><span style=\"font-weight: bold\"> Trainable params: </span><span style=\"color: #00af00; text-decoration-color: #00af00\">822,986</span> (3.14 MB)\n",
       "</pre>\n"
      ],
      "text/plain": [
       "\u001b[1m Trainable params: \u001b[0m\u001b[38;5;34m822,986\u001b[0m (3.14 MB)\n"
      ]
     },
     "metadata": {},
     "output_type": "display_data"
    },
    {
     "data": {
      "text/html": [
       "<pre style=\"white-space:pre;overflow-x:auto;line-height:normal;font-family:Menlo,'DejaVu Sans Mono',consolas,'Courier New',monospace\"><span style=\"font-weight: bold\"> Non-trainable params: </span><span style=\"color: #00af00; text-decoration-color: #00af00\">64</span> (256.00 B)\n",
       "</pre>\n"
      ],
      "text/plain": [
       "\u001b[1m Non-trainable params: \u001b[0m\u001b[38;5;34m64\u001b[0m (256.00 B)\n"
      ]
     },
     "metadata": {},
     "output_type": "display_data"
    }
   ],
   "source": [
    "model = Sequential()\n",
    "model.add(Conv2D(32, (3,3), input_shape = (32, 32, 3), activation = 'relu'))\n",
    "model.add(BatchNormalization())\n",
    "model.add(Conv2D(64, (3,3),activation = 'relu'))\n",
    "model.add(MaxPooling2D((2,2)))\n",
    "model.add(Flatten())\n",
    "model.add(Dense(64, activation = 'relu'))\n",
    "model.add(Dropout(0.2))\n",
    "model.add(Dense(10, activation = 'softmax'))\n",
    "\n",
    "sgd = SGD(learning_rate = 0.1)\n",
    "model.compile(optimizer= sgd, loss = 'sparse_categorical_crossentropy', metrics = ['accuracy'])\n",
    "model.summary()"
   ]
  },
  {
   "cell_type": "code",
   "execution_count": 7,
   "id": "0617f2cd",
   "metadata": {},
   "outputs": [
    {
     "name": "stdout",
     "output_type": "stream",
     "text": [
      "Epoch 1/3\n",
      "\u001b[1m625/625\u001b[0m \u001b[32m━━━━━━━━━━━━━━━━━━━━\u001b[0m\u001b[37m\u001b[0m \u001b[1m58s\u001b[0m 90ms/step - accuracy: 0.2699 - loss: 2.1086 - val_accuracy: 0.4405 - val_loss: 1.5513\n",
      "Epoch 2/3\n",
      "\u001b[1m625/625\u001b[0m \u001b[32m━━━━━━━━━━━━━━━━━━━━\u001b[0m\u001b[37m\u001b[0m \u001b[1m55s\u001b[0m 88ms/step - accuracy: 0.4900 - loss: 1.4042 - val_accuracy: 0.5728 - val_loss: 1.2363\n",
      "Epoch 3/3\n",
      "\u001b[1m625/625\u001b[0m \u001b[32m━━━━━━━━━━━━━━━━━━━━\u001b[0m\u001b[37m\u001b[0m \u001b[1m55s\u001b[0m 88ms/step - accuracy: 0.5754 - loss: 1.1858 - val_accuracy: 0.5976 - val_loss: 1.1591\n"
     ]
    }
   ],
   "source": [
    "r = model.fit(x_train, y_train, validation_split=0.2, epochs = 3, batch_size = 64)"
   ]
  },
  {
   "cell_type": "code",
   "execution_count": 8,
   "id": "f777dae1",
   "metadata": {},
   "outputs": [
    {
     "data": {
      "text/plain": [
       "(10000, 3072)"
      ]
     },
     "execution_count": 8,
     "metadata": {},
     "output_type": "execute_result"
    }
   ],
   "source": [
    "x_test = test.drop(['label'], axis = 1).values\n",
    "y_test = test['label'].values\n",
    "x_test.shape"
   ]
  },
  {
   "cell_type": "code",
   "execution_count": 9,
   "id": "a1a28156",
   "metadata": {
    "scrolled": true
   },
   "outputs": [],
   "source": [
    "x_test = x_test.reshape((10000, 32, 32, 3)).astype('float32')/255"
   ]
  },
  {
   "cell_type": "code",
   "execution_count": 10,
   "id": "3d1247f1",
   "metadata": {},
   "outputs": [
    {
     "name": "stdout",
     "output_type": "stream",
     "text": [
      "\u001b[1m313/313\u001b[0m \u001b[32m━━━━━━━━━━━━━━━━━━━━\u001b[0m\u001b[37m\u001b[0m \u001b[1m5s\u001b[0m 17ms/step\n"
     ]
    }
   ],
   "source": [
    "predictions = model.predict(x_test)"
   ]
  },
  {
   "cell_type": "code",
   "execution_count": 11,
   "id": "56c877f2",
   "metadata": {},
   "outputs": [
    {
     "data": {
      "text/plain": [
       "array([[1.42581314e-02, 1.37821818e-03, 1.00468084e-01, ...,\n",
       "        5.92858391e-03, 3.82779613e-02, 4.72765323e-03],\n",
       "       [1.10379942e-01, 2.34061748e-01, 3.05384538e-06, ...,\n",
       "        6.60790667e-09, 5.93795002e-01, 6.17598929e-02],\n",
       "       [3.76918912e-01, 2.14449272e-01, 5.72007941e-03, ...,\n",
       "        1.98798531e-04, 2.82012016e-01, 1.19613610e-01],\n",
       "       ...,\n",
       "       [7.26713566e-03, 9.64104896e-04, 1.02294557e-01, ...,\n",
       "        5.54978400e-02, 6.06363919e-03, 5.36701223e-03],\n",
       "       [1.35926321e-01, 4.55279112e-01, 8.40219185e-02, ...,\n",
       "        9.83210653e-03, 8.32462013e-02, 4.94114719e-02],\n",
       "       [3.75996955e-04, 2.58369255e-04, 2.96169948e-02, ...,\n",
       "        5.56128561e-01, 6.89093358e-05, 4.48906241e-04]], dtype=float32)"
      ]
     },
     "execution_count": 11,
     "metadata": {},
     "output_type": "execute_result"
    }
   ],
   "source": [
    "predictions"
   ]
  },
  {
   "cell_type": "code",
   "execution_count": 12,
   "id": "fc1d2b2d",
   "metadata": {},
   "outputs": [
    {
     "data": {
      "text/plain": [
       "dict_keys(['accuracy', 'loss', 'val_accuracy', 'val_loss'])"
      ]
     },
     "execution_count": 12,
     "metadata": {},
     "output_type": "execute_result"
    }
   ],
   "source": [
    "r.history.keys()"
   ]
  },
  {
   "cell_type": "code",
   "execution_count": 13,
   "id": "80c73997",
   "metadata": {},
   "outputs": [
    {
     "name": "stdout",
     "output_type": "stream",
     "text": [
      "\u001b[1m313/313\u001b[0m \u001b[32m━━━━━━━━━━━━━━━━━━━━\u001b[0m\u001b[37m\u001b[0m \u001b[1m5s\u001b[0m 17ms/step - accuracy: 0.6031 - loss: 1.1396\n",
      "Test Loss: 1.1535\n",
      "Test Accuracy: 0.6000\n"
     ]
    }
   ],
   "source": [
    "test_loss, test_accuracy = model.evaluate(x_test, y_test)\n",
    "print(f'Test Loss: {test_loss:.4f}')\n",
    "print(f'Test Accuracy: {test_accuracy:.4f}')"
   ]
  },
  {
   "cell_type": "code",
   "execution_count": 14,
   "id": "7d71d51b-b3f6-4170-98ba-ce6c447d5525",
   "metadata": {},
   "outputs": [],
   "source": [
    "class_names = ['airplane','automobile','bird','cat','deer',\n",
    "               'dog','frog','horse','ship','truck']"
   ]
  },
  {
   "cell_type": "code",
   "execution_count": 15,
   "id": "d605eb09-07e9-4f81-b026-fa19dba361d1",
   "metadata": {},
   "outputs": [
    {
     "data": {
      "text/plain": [
       "<matplotlib.legend.Legend at 0x1ff8745c440>"
      ]
     },
     "execution_count": 15,
     "metadata": {},
     "output_type": "execute_result"
    },
    {
     "data": {
      "image/png": "[encoded data removed]",
      "text/plain": [
       "<Figure size 640x480 with 1 Axes>"
      ]
     },
     "metadata": {},
     "output_type": "display_data"
    }
   ],
   "source": [
    "plt.plot(r.history['accuracy'], label = 'accuracy', color = 'green')\n",
    "plt.plot(r.history['val_accuracy'], label = 'val_accuracy', color = 'red')\n",
    "plt.legend()"
   ]
  },
  {
   "cell_type": "code",
   "execution_count": 16,
   "id": "d6def5cf-ef6a-4676-8ae7-95d8fabd7efa",
   "metadata": {},
   "outputs": [
    {
     "data": {
      "text/plain": [
       "<matplotlib.legend.Legend at 0x1ff86343d10>"
      ]
     },
     "execution_count": 16,
     "metadata": {},
     "output_type": "execute_result"
    },
    {
     "data": {
      "image/png": "[encoded data removed]",
      "text/plain": [
       "<Figure size 640x480 with 1 Axes>"
      ]
     },
     "metadata": {},
     "output_type": "display_data"
    }
   ],
   "source": [
    "plt.plot(r.history['loss'], label = 'loss', color = 'red')\n",
    "plt.plot(r.history['val_loss'], label = 'val_loss', color = 'blue')\n",
    "plt.legend()"
   ]
  },
  {
   "cell_type": "code",
   "execution_count": 17,
   "id": "3bd0a52a-8488-403b-8518-5b150d349884",
   "metadata": {},
   "outputs": [
    {
     "name": "stdout",
     "output_type": "stream",
     "text": [
      "\u001b[1m313/313\u001b[0m \u001b[32m━━━━━━━━━━━━━━━━━━━━\u001b[0m\u001b[37m\u001b[0m \u001b[1m5s\u001b[0m 16ms/step\n"
     ]
    },
    {
     "data": {
      "image/png": "[encoded data removed]",
      "text/plain": [
       "<Figure size 640x480 with 1 Axes>"
      ]
     },
     "metadata": {},
     "output_type": "display_data"
    },
    {
     "name": "stdout",
     "output_type": "stream",
     "text": [
      "Predicted Class: frog\n"
     ]
    }
   ],
   "source": [
    "\n",
    "n=7\n",
    "predicted_value=model.predict(x_test)\n",
    "plt.imshow(x_test[n])\n",
    "plt.show()\n",
    "predicted_index = np.argmax(predicted_value[n], axis=0)\n",
    "print(\"Predicted Class:\", class_names[predicted_index])\n"
   ]
  },
  {
   "cell_type": "code",
   "execution_count": 18,
   "id": "166ae962-b80f-4a75-8ca7-868fa289f7bc",
   "metadata": {},
   "outputs": [
    {
     "ename": "NameError",
     "evalue": "name 'image' is not defined",
     "output_type": "error",
     "traceback": [
      "\u001b[1;31m---------------------------------------------------------------------------\u001b[0m",
      "\u001b[1;31mNameError\u001b[0m                                 Traceback (most recent call last)",
      "Cell \u001b[1;32mIn[18], line 1\u001b[0m\n\u001b[1;32m----> 1\u001b[0m image\u001b[38;5;241m=\u001b[39m\u001b[43mimage\u001b[49m\u001b[38;5;241m.\u001b[39mreshape(\u001b[38;5;241m1\u001b[39m, image\u001b[38;5;241m.\u001b[39mshape[\u001b[38;5;241m0\u001b[39m], image\u001b[38;5;241m.\u001b[39mshape[\u001b[38;5;241m1\u001b[39m], image\u001b[38;5;241m.\u001b[39mshape[\u001b[38;5;241m2\u001b[39m])\n\u001b[0;32m      2\u001b[0m image\u001b[38;5;241m.\u001b[39mshape\n",
      "\u001b[1;31mNameError\u001b[0m: name 'image' is not defined"
     ]
    }
   ],
   "source": [
    "image=image.reshape(1, image.shape[0], image.shape[1], image.shape[2])\n",
    "image.shape"
   ]
  },
  {
   "cell_type": "code",
   "execution_count": null,
   "id": "a9cbde4f-254f-49c7-b590-345cb2f4e148",
   "metadata": {},
   "outputs": [],
   "source": [
    "predict_model = model.predict([image])\n",
    "print(\"Pedicted class: {}\".format(np.argmax(predict_model)))"
   ]
  },
  {
   "cell_type": "code",
   "execution_count": null,
   "id": "03805264-2156-4493-a799-e3e6e5d077d9",
   "metadata": {},
   "outputs": [],
   "source": []
  }
 ],
 "metadata": {
  "kernelspec": {
   "display_name": "Python 3 (ipykernel)",
   "language": "python",
   "name": "python3"
  },
  "language_info": {
   "codemirror_mode": {
    "name": "ipython",
    "version": 3
   },
   "file_extension": ".py",
   "mimetype": "text/x-python",
   "name": "python",
   "nbconvert_exporter": "python",
   "pygments_lexer": "ipython3",
   "version": "3.12.1"
  }
 },
 "nbformat": 4,
 "nbformat_minor": 5
}
